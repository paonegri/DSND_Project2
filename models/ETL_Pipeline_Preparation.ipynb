{
  "nbformat": 4,
  "nbformat_minor": 0,
  "metadata": {
    "kernelspec": {
      "display_name": "Python 3",
      "language": "python",
      "name": "python3"
    },
    "language_info": {
      "codemirror_mode": {
        "name": "ipython",
        "version": 3
      },
      "file_extension": ".py",
      "mimetype": "text/x-python",
      "name": "python",
      "nbconvert_exporter": "python",
      "pygments_lexer": "ipython3",
      "version": "3.6.3"
    },
    "colab": {
      "name": "ETL Pipeline Preparation.ipynb",
      "provenance": [],
      "toc_visible": true
    }
  },
  "cells": [
    {
      "cell_type": "markdown",
      "metadata": {
        "id": "lxLi_0JHpn5w",
        "colab_type": "text"
      },
      "source": [
        "# ETL Pipeline Preparation\n",
        "Follow the instructions below to help you create your ETL pipeline.\n",
        "### 1. Import libraries and load datasets.\n",
        "- Import Python libraries\n",
        "- Load `messages.csv` into a dataframe and inspect the first few lines.\n",
        "- Load `categories.csv` into a dataframe and inspect the first few lines."
      ]
    },
    {
      "cell_type": "code",
      "metadata": {
        "id": "1cPumd0Wpn5y",
        "colab_type": "code",
        "colab": {}
      },
      "source": [
        "# import libraries\n",
        "import pandas as pd \n",
        "import numpy as np\n",
        "from sqlalchemy import create_engine"
      ],
      "execution_count": 0,
      "outputs": []
    },
    {
      "cell_type": "code",
      "metadata": {
        "id": "1NdQ67Appn54",
        "colab_type": "code",
        "outputId": "54ec9ce2-ce71-4e2e-8757-0bf6a080e2af",
        "colab": {
          "base_uri": "https://localhost:8080/",
          "height": 34
        }
      },
      "source": [
        "# load messages dataset\n",
        "messages = pd.read_csv('/content/drive/My Drive/Colab Notebooks/Udacity DS nanodegree/4.Data Enegeneering/Disaster Response Pipeline/data/disaster_messages.csv')\n",
        "messages.shape"
      ],
      "execution_count": 0,
      "outputs": [
        {
          "output_type": "execute_result",
          "data": {
            "text/plain": [
              "(26248, 4)"
            ]
          },
          "metadata": {
            "tags": []
          },
          "execution_count": 4
        }
      ]
    },
    {
      "cell_type": "code",
      "metadata": {
        "id": "M-J_lQjtqLeB",
        "colab_type": "code",
        "outputId": "19092b3c-5412-4193-f639-c6f591d66f5d",
        "colab": {
          "base_uri": "https://localhost:8080/",
          "height": 204
        }
      },
      "source": [
        "# print messges head\n",
        "messages.head()"
      ],
      "execution_count": 0,
      "outputs": [
        {
          "output_type": "execute_result",
          "data": {
            "text/html": [
              "<div>\n",
              "<style scoped>\n",
              "    .dataframe tbody tr th:only-of-type {\n",
              "        vertical-align: middle;\n",
              "    }\n",
              "\n",
              "    .dataframe tbody tr th {\n",
              "        vertical-align: top;\n",
              "    }\n",
              "\n",
              "    .dataframe thead th {\n",
              "        text-align: right;\n",
              "    }\n",
              "</style>\n",
              "<table border=\"1\" class=\"dataframe\">\n",
              "  <thead>\n",
              "    <tr style=\"text-align: right;\">\n",
              "      <th></th>\n",
              "      <th>id</th>\n",
              "      <th>message</th>\n",
              "      <th>original</th>\n",
              "      <th>genre</th>\n",
              "    </tr>\n",
              "  </thead>\n",
              "  <tbody>\n",
              "    <tr>\n",
              "      <th>0</th>\n",
              "      <td>2</td>\n",
              "      <td>Weather update - a cold front from Cuba that c...</td>\n",
              "      <td>Un front froid se retrouve sur Cuba ce matin. ...</td>\n",
              "      <td>direct</td>\n",
              "    </tr>\n",
              "    <tr>\n",
              "      <th>1</th>\n",
              "      <td>7</td>\n",
              "      <td>Is the Hurricane over or is it not over</td>\n",
              "      <td>Cyclone nan fini osinon li pa fini</td>\n",
              "      <td>direct</td>\n",
              "    </tr>\n",
              "    <tr>\n",
              "      <th>2</th>\n",
              "      <td>8</td>\n",
              "      <td>Looking for someone but no name</td>\n",
              "      <td>Patnm, di Maryani relem pou li banm nouvel li ...</td>\n",
              "      <td>direct</td>\n",
              "    </tr>\n",
              "    <tr>\n",
              "      <th>3</th>\n",
              "      <td>9</td>\n",
              "      <td>UN reports Leogane 80-90 destroyed. Only Hospi...</td>\n",
              "      <td>UN reports Leogane 80-90 destroyed. Only Hospi...</td>\n",
              "      <td>direct</td>\n",
              "    </tr>\n",
              "    <tr>\n",
              "      <th>4</th>\n",
              "      <td>12</td>\n",
              "      <td>says: west side of Haiti, rest of the country ...</td>\n",
              "      <td>facade ouest d Haiti et le reste du pays aujou...</td>\n",
              "      <td>direct</td>\n",
              "    </tr>\n",
              "  </tbody>\n",
              "</table>\n",
              "</div>"
            ],
            "text/plain": [
              "   id  ...   genre\n",
              "0   2  ...  direct\n",
              "1   7  ...  direct\n",
              "2   8  ...  direct\n",
              "3   9  ...  direct\n",
              "4  12  ...  direct\n",
              "\n",
              "[5 rows x 4 columns]"
            ]
          },
          "metadata": {
            "tags": []
          },
          "execution_count": 5
        }
      ]
    },
    {
      "cell_type": "code",
      "metadata": {
        "id": "bo-j-7N9pn57",
        "colab_type": "code",
        "outputId": "d4c6f6ef-af27-4036-d452-39d0d3f821dd",
        "colab": {
          "base_uri": "https://localhost:8080/",
          "height": 34
        }
      },
      "source": [
        "# load categories dataset\n",
        "categories = pd.read_csv('/content/drive/My Drive/Colab Notebooks/Udacity DS nanodegree/4.Data Enegeneering/Disaster Response Pipeline/data/disaster_categories.csv')\n",
        "categories.shape"
      ],
      "execution_count": 0,
      "outputs": [
        {
          "output_type": "execute_result",
          "data": {
            "text/plain": [
              "(26248, 2)"
            ]
          },
          "metadata": {
            "tags": []
          },
          "execution_count": 6
        }
      ]
    },
    {
      "cell_type": "code",
      "metadata": {
        "id": "JULRfakAqQUA",
        "colab_type": "code",
        "outputId": "d36fa0f3-cdbf-48e6-b62d-15f5c7f6ab5d",
        "colab": {
          "base_uri": "https://localhost:8080/",
          "height": 204
        }
      },
      "source": [
        "# print categories head\n",
        "categories.head()"
      ],
      "execution_count": 0,
      "outputs": [
        {
          "output_type": "execute_result",
          "data": {
            "text/html": [
              "<div>\n",
              "<style scoped>\n",
              "    .dataframe tbody tr th:only-of-type {\n",
              "        vertical-align: middle;\n",
              "    }\n",
              "\n",
              "    .dataframe tbody tr th {\n",
              "        vertical-align: top;\n",
              "    }\n",
              "\n",
              "    .dataframe thead th {\n",
              "        text-align: right;\n",
              "    }\n",
              "</style>\n",
              "<table border=\"1\" class=\"dataframe\">\n",
              "  <thead>\n",
              "    <tr style=\"text-align: right;\">\n",
              "      <th></th>\n",
              "      <th>id</th>\n",
              "      <th>categories</th>\n",
              "    </tr>\n",
              "  </thead>\n",
              "  <tbody>\n",
              "    <tr>\n",
              "      <th>0</th>\n",
              "      <td>2</td>\n",
              "      <td>related-1;request-0;offer-0;aid_related-0;medi...</td>\n",
              "    </tr>\n",
              "    <tr>\n",
              "      <th>1</th>\n",
              "      <td>7</td>\n",
              "      <td>related-1;request-0;offer-0;aid_related-1;medi...</td>\n",
              "    </tr>\n",
              "    <tr>\n",
              "      <th>2</th>\n",
              "      <td>8</td>\n",
              "      <td>related-1;request-0;offer-0;aid_related-0;medi...</td>\n",
              "    </tr>\n",
              "    <tr>\n",
              "      <th>3</th>\n",
              "      <td>9</td>\n",
              "      <td>related-1;request-1;offer-0;aid_related-1;medi...</td>\n",
              "    </tr>\n",
              "    <tr>\n",
              "      <th>4</th>\n",
              "      <td>12</td>\n",
              "      <td>related-1;request-0;offer-0;aid_related-0;medi...</td>\n",
              "    </tr>\n",
              "  </tbody>\n",
              "</table>\n",
              "</div>"
            ],
            "text/plain": [
              "   id                                         categories\n",
              "0   2  related-1;request-0;offer-0;aid_related-0;medi...\n",
              "1   7  related-1;request-0;offer-0;aid_related-1;medi...\n",
              "2   8  related-1;request-0;offer-0;aid_related-0;medi...\n",
              "3   9  related-1;request-1;offer-0;aid_related-1;medi...\n",
              "4  12  related-1;request-0;offer-0;aid_related-0;medi..."
            ]
          },
          "metadata": {
            "tags": []
          },
          "execution_count": 7
        }
      ]
    },
    {
      "cell_type": "code",
      "metadata": {
        "id": "LWfY8gw-qTUE",
        "colab_type": "code",
        "outputId": "c4b9e2a8-5801-41ea-cc52-7b7a8ec4d216",
        "colab": {
          "base_uri": "https://localhost:8080/",
          "height": 54
        }
      },
      "source": [
        "categories['categories'][0]"
      ],
      "execution_count": 0,
      "outputs": [
        {
          "output_type": "execute_result",
          "data": {
            "text/plain": [
              "'related-1;request-0;offer-0;aid_related-0;medical_help-0;medical_products-0;search_and_rescue-0;security-0;military-0;child_alone-0;water-0;food-0;shelter-0;clothing-0;money-0;missing_people-0;refugees-0;death-0;other_aid-0;infrastructure_related-0;transport-0;buildings-0;electricity-0;tools-0;hospitals-0;shops-0;aid_centers-0;other_infrastructure-0;weather_related-0;floods-0;storm-0;fire-0;earthquake-0;cold-0;other_weather-0;direct_report-0'"
            ]
          },
          "metadata": {
            "tags": []
          },
          "execution_count": 8
        }
      ]
    },
    {
      "cell_type": "markdown",
      "metadata": {
        "id": "hAXLI3FOpn5-",
        "colab_type": "text"
      },
      "source": [
        "### 2. Merge datasets.\n",
        "- Merge the messages and categories datasets using the common id\n",
        "- Assign this combined dataset to `df`, which will be cleaned in the following steps"
      ]
    },
    {
      "cell_type": "code",
      "metadata": {
        "id": "Plp_Chubpn5_",
        "colab_type": "code",
        "outputId": "d5d5bc49-54ca-4fd1-9e5a-bff306a161d3",
        "colab": {
          "base_uri": "https://localhost:8080/",
          "height": 289
        }
      },
      "source": [
        "#merge two datasets\n",
        "df = pd.concat([messages, categories], axis = 1)\n",
        "df = pd.merge(messages, categories, on=['id'])\n",
        "df.head()"
      ],
      "execution_count": 0,
      "outputs": [
        {
          "output_type": "execute_result",
          "data": {
            "text/html": [
              "<div>\n",
              "<style scoped>\n",
              "    .dataframe tbody tr th:only-of-type {\n",
              "        vertical-align: middle;\n",
              "    }\n",
              "\n",
              "    .dataframe tbody tr th {\n",
              "        vertical-align: top;\n",
              "    }\n",
              "\n",
              "    .dataframe thead th {\n",
              "        text-align: right;\n",
              "    }\n",
              "</style>\n",
              "<table border=\"1\" class=\"dataframe\">\n",
              "  <thead>\n",
              "    <tr style=\"text-align: right;\">\n",
              "      <th></th>\n",
              "      <th>id</th>\n",
              "      <th>message</th>\n",
              "      <th>original</th>\n",
              "      <th>genre</th>\n",
              "      <th>categories</th>\n",
              "    </tr>\n",
              "  </thead>\n",
              "  <tbody>\n",
              "    <tr>\n",
              "      <th>0</th>\n",
              "      <td>2</td>\n",
              "      <td>Weather update - a cold front from Cuba that c...</td>\n",
              "      <td>Un front froid se retrouve sur Cuba ce matin. ...</td>\n",
              "      <td>direct</td>\n",
              "      <td>related-1;request-0;offer-0;aid_related-0;medi...</td>\n",
              "    </tr>\n",
              "    <tr>\n",
              "      <th>1</th>\n",
              "      <td>7</td>\n",
              "      <td>Is the Hurricane over or is it not over</td>\n",
              "      <td>Cyclone nan fini osinon li pa fini</td>\n",
              "      <td>direct</td>\n",
              "      <td>related-1;request-0;offer-0;aid_related-1;medi...</td>\n",
              "    </tr>\n",
              "    <tr>\n",
              "      <th>2</th>\n",
              "      <td>8</td>\n",
              "      <td>Looking for someone but no name</td>\n",
              "      <td>Patnm, di Maryani relem pou li banm nouvel li ...</td>\n",
              "      <td>direct</td>\n",
              "      <td>related-1;request-0;offer-0;aid_related-0;medi...</td>\n",
              "    </tr>\n",
              "    <tr>\n",
              "      <th>3</th>\n",
              "      <td>9</td>\n",
              "      <td>UN reports Leogane 80-90 destroyed. Only Hospi...</td>\n",
              "      <td>UN reports Leogane 80-90 destroyed. Only Hospi...</td>\n",
              "      <td>direct</td>\n",
              "      <td>related-1;request-1;offer-0;aid_related-1;medi...</td>\n",
              "    </tr>\n",
              "    <tr>\n",
              "      <th>4</th>\n",
              "      <td>12</td>\n",
              "      <td>says: west side of Haiti, rest of the country ...</td>\n",
              "      <td>facade ouest d Haiti et le reste du pays aujou...</td>\n",
              "      <td>direct</td>\n",
              "      <td>related-1;request-0;offer-0;aid_related-0;medi...</td>\n",
              "    </tr>\n",
              "  </tbody>\n",
              "</table>\n",
              "</div>"
            ],
            "text/plain": [
              "   id  ...                                         categories\n",
              "0   2  ...  related-1;request-0;offer-0;aid_related-0;medi...\n",
              "1   7  ...  related-1;request-0;offer-0;aid_related-1;medi...\n",
              "2   8  ...  related-1;request-0;offer-0;aid_related-0;medi...\n",
              "3   9  ...  related-1;request-1;offer-0;aid_related-1;medi...\n",
              "4  12  ...  related-1;request-0;offer-0;aid_related-0;medi...\n",
              "\n",
              "[5 rows x 5 columns]"
            ]
          },
          "metadata": {
            "tags": []
          },
          "execution_count": 10
        }
      ]
    },
    {
      "cell_type": "markdown",
      "metadata": {
        "id": "BR2ijbv6pn6D",
        "colab_type": "text"
      },
      "source": [
        "### 3. Split `categories` into separate category columns.\n",
        "- Split the values in the `categories` column on the `;` character so that each value becomes a separate column. You'll find [this method](https://pandas.pydata.org/pandas-docs/version/0.23/generated/pandas.Series.str.split.html) very helpful! Make sure to set `expand=True`.\n",
        "- Use the first row of categories dataframe to create column names for the categories data.\n",
        "- Rename columns of `categories` with new column names."
      ]
    },
    {
      "cell_type": "code",
      "metadata": {
        "id": "JUiVlIMlpn6E",
        "colab_type": "code",
        "outputId": "d6e51ecf-e265-4da1-bc7c-31d60b762c99",
        "colab": {
          "base_uri": "https://localhost:8080/",
          "height": 309
        }
      },
      "source": [
        "# create a dataframe of the 36 individual category columns\n",
        "categories = df.categories.str.split(';', expand=True)\n",
        "categories.head()"
      ],
      "execution_count": 0,
      "outputs": [
        {
          "output_type": "execute_result",
          "data": {
            "text/html": [
              "<div>\n",
              "<style scoped>\n",
              "    .dataframe tbody tr th:only-of-type {\n",
              "        vertical-align: middle;\n",
              "    }\n",
              "\n",
              "    .dataframe tbody tr th {\n",
              "        vertical-align: top;\n",
              "    }\n",
              "\n",
              "    .dataframe thead th {\n",
              "        text-align: right;\n",
              "    }\n",
              "</style>\n",
              "<table border=\"1\" class=\"dataframe\">\n",
              "  <thead>\n",
              "    <tr style=\"text-align: right;\">\n",
              "      <th></th>\n",
              "      <th>0</th>\n",
              "      <th>1</th>\n",
              "      <th>2</th>\n",
              "      <th>3</th>\n",
              "      <th>4</th>\n",
              "      <th>5</th>\n",
              "      <th>6</th>\n",
              "      <th>7</th>\n",
              "      <th>8</th>\n",
              "      <th>9</th>\n",
              "      <th>10</th>\n",
              "      <th>11</th>\n",
              "      <th>12</th>\n",
              "      <th>13</th>\n",
              "      <th>14</th>\n",
              "      <th>15</th>\n",
              "      <th>16</th>\n",
              "      <th>17</th>\n",
              "      <th>18</th>\n",
              "      <th>19</th>\n",
              "      <th>20</th>\n",
              "      <th>21</th>\n",
              "      <th>22</th>\n",
              "      <th>23</th>\n",
              "      <th>24</th>\n",
              "      <th>25</th>\n",
              "      <th>26</th>\n",
              "      <th>27</th>\n",
              "      <th>28</th>\n",
              "      <th>29</th>\n",
              "      <th>30</th>\n",
              "      <th>31</th>\n",
              "      <th>32</th>\n",
              "      <th>33</th>\n",
              "      <th>34</th>\n",
              "      <th>35</th>\n",
              "    </tr>\n",
              "  </thead>\n",
              "  <tbody>\n",
              "    <tr>\n",
              "      <th>0</th>\n",
              "      <td>related-1</td>\n",
              "      <td>request-0</td>\n",
              "      <td>offer-0</td>\n",
              "      <td>aid_related-0</td>\n",
              "      <td>medical_help-0</td>\n",
              "      <td>medical_products-0</td>\n",
              "      <td>search_and_rescue-0</td>\n",
              "      <td>security-0</td>\n",
              "      <td>military-0</td>\n",
              "      <td>child_alone-0</td>\n",
              "      <td>water-0</td>\n",
              "      <td>food-0</td>\n",
              "      <td>shelter-0</td>\n",
              "      <td>clothing-0</td>\n",
              "      <td>money-0</td>\n",
              "      <td>missing_people-0</td>\n",
              "      <td>refugees-0</td>\n",
              "      <td>death-0</td>\n",
              "      <td>other_aid-0</td>\n",
              "      <td>infrastructure_related-0</td>\n",
              "      <td>transport-0</td>\n",
              "      <td>buildings-0</td>\n",
              "      <td>electricity-0</td>\n",
              "      <td>tools-0</td>\n",
              "      <td>hospitals-0</td>\n",
              "      <td>shops-0</td>\n",
              "      <td>aid_centers-0</td>\n",
              "      <td>other_infrastructure-0</td>\n",
              "      <td>weather_related-0</td>\n",
              "      <td>floods-0</td>\n",
              "      <td>storm-0</td>\n",
              "      <td>fire-0</td>\n",
              "      <td>earthquake-0</td>\n",
              "      <td>cold-0</td>\n",
              "      <td>other_weather-0</td>\n",
              "      <td>direct_report-0</td>\n",
              "    </tr>\n",
              "    <tr>\n",
              "      <th>1</th>\n",
              "      <td>related-1</td>\n",
              "      <td>request-0</td>\n",
              "      <td>offer-0</td>\n",
              "      <td>aid_related-1</td>\n",
              "      <td>medical_help-0</td>\n",
              "      <td>medical_products-0</td>\n",
              "      <td>search_and_rescue-0</td>\n",
              "      <td>security-0</td>\n",
              "      <td>military-0</td>\n",
              "      <td>child_alone-0</td>\n",
              "      <td>water-0</td>\n",
              "      <td>food-0</td>\n",
              "      <td>shelter-0</td>\n",
              "      <td>clothing-0</td>\n",
              "      <td>money-0</td>\n",
              "      <td>missing_people-0</td>\n",
              "      <td>refugees-0</td>\n",
              "      <td>death-0</td>\n",
              "      <td>other_aid-1</td>\n",
              "      <td>infrastructure_related-0</td>\n",
              "      <td>transport-0</td>\n",
              "      <td>buildings-0</td>\n",
              "      <td>electricity-0</td>\n",
              "      <td>tools-0</td>\n",
              "      <td>hospitals-0</td>\n",
              "      <td>shops-0</td>\n",
              "      <td>aid_centers-0</td>\n",
              "      <td>other_infrastructure-0</td>\n",
              "      <td>weather_related-1</td>\n",
              "      <td>floods-0</td>\n",
              "      <td>storm-1</td>\n",
              "      <td>fire-0</td>\n",
              "      <td>earthquake-0</td>\n",
              "      <td>cold-0</td>\n",
              "      <td>other_weather-0</td>\n",
              "      <td>direct_report-0</td>\n",
              "    </tr>\n",
              "    <tr>\n",
              "      <th>2</th>\n",
              "      <td>related-1</td>\n",
              "      <td>request-0</td>\n",
              "      <td>offer-0</td>\n",
              "      <td>aid_related-0</td>\n",
              "      <td>medical_help-0</td>\n",
              "      <td>medical_products-0</td>\n",
              "      <td>search_and_rescue-0</td>\n",
              "      <td>security-0</td>\n",
              "      <td>military-0</td>\n",
              "      <td>child_alone-0</td>\n",
              "      <td>water-0</td>\n",
              "      <td>food-0</td>\n",
              "      <td>shelter-0</td>\n",
              "      <td>clothing-0</td>\n",
              "      <td>money-0</td>\n",
              "      <td>missing_people-0</td>\n",
              "      <td>refugees-0</td>\n",
              "      <td>death-0</td>\n",
              "      <td>other_aid-0</td>\n",
              "      <td>infrastructure_related-0</td>\n",
              "      <td>transport-0</td>\n",
              "      <td>buildings-0</td>\n",
              "      <td>electricity-0</td>\n",
              "      <td>tools-0</td>\n",
              "      <td>hospitals-0</td>\n",
              "      <td>shops-0</td>\n",
              "      <td>aid_centers-0</td>\n",
              "      <td>other_infrastructure-0</td>\n",
              "      <td>weather_related-0</td>\n",
              "      <td>floods-0</td>\n",
              "      <td>storm-0</td>\n",
              "      <td>fire-0</td>\n",
              "      <td>earthquake-0</td>\n",
              "      <td>cold-0</td>\n",
              "      <td>other_weather-0</td>\n",
              "      <td>direct_report-0</td>\n",
              "    </tr>\n",
              "    <tr>\n",
              "      <th>3</th>\n",
              "      <td>related-1</td>\n",
              "      <td>request-1</td>\n",
              "      <td>offer-0</td>\n",
              "      <td>aid_related-1</td>\n",
              "      <td>medical_help-0</td>\n",
              "      <td>medical_products-1</td>\n",
              "      <td>search_and_rescue-0</td>\n",
              "      <td>security-0</td>\n",
              "      <td>military-0</td>\n",
              "      <td>child_alone-0</td>\n",
              "      <td>water-0</td>\n",
              "      <td>food-0</td>\n",
              "      <td>shelter-0</td>\n",
              "      <td>clothing-0</td>\n",
              "      <td>money-0</td>\n",
              "      <td>missing_people-0</td>\n",
              "      <td>refugees-0</td>\n",
              "      <td>death-0</td>\n",
              "      <td>other_aid-1</td>\n",
              "      <td>infrastructure_related-1</td>\n",
              "      <td>transport-0</td>\n",
              "      <td>buildings-1</td>\n",
              "      <td>electricity-0</td>\n",
              "      <td>tools-0</td>\n",
              "      <td>hospitals-1</td>\n",
              "      <td>shops-0</td>\n",
              "      <td>aid_centers-0</td>\n",
              "      <td>other_infrastructure-0</td>\n",
              "      <td>weather_related-0</td>\n",
              "      <td>floods-0</td>\n",
              "      <td>storm-0</td>\n",
              "      <td>fire-0</td>\n",
              "      <td>earthquake-0</td>\n",
              "      <td>cold-0</td>\n",
              "      <td>other_weather-0</td>\n",
              "      <td>direct_report-0</td>\n",
              "    </tr>\n",
              "    <tr>\n",
              "      <th>4</th>\n",
              "      <td>related-1</td>\n",
              "      <td>request-0</td>\n",
              "      <td>offer-0</td>\n",
              "      <td>aid_related-0</td>\n",
              "      <td>medical_help-0</td>\n",
              "      <td>medical_products-0</td>\n",
              "      <td>search_and_rescue-0</td>\n",
              "      <td>security-0</td>\n",
              "      <td>military-0</td>\n",
              "      <td>child_alone-0</td>\n",
              "      <td>water-0</td>\n",
              "      <td>food-0</td>\n",
              "      <td>shelter-0</td>\n",
              "      <td>clothing-0</td>\n",
              "      <td>money-0</td>\n",
              "      <td>missing_people-0</td>\n",
              "      <td>refugees-0</td>\n",
              "      <td>death-0</td>\n",
              "      <td>other_aid-0</td>\n",
              "      <td>infrastructure_related-0</td>\n",
              "      <td>transport-0</td>\n",
              "      <td>buildings-0</td>\n",
              "      <td>electricity-0</td>\n",
              "      <td>tools-0</td>\n",
              "      <td>hospitals-0</td>\n",
              "      <td>shops-0</td>\n",
              "      <td>aid_centers-0</td>\n",
              "      <td>other_infrastructure-0</td>\n",
              "      <td>weather_related-0</td>\n",
              "      <td>floods-0</td>\n",
              "      <td>storm-0</td>\n",
              "      <td>fire-0</td>\n",
              "      <td>earthquake-0</td>\n",
              "      <td>cold-0</td>\n",
              "      <td>other_weather-0</td>\n",
              "      <td>direct_report-0</td>\n",
              "    </tr>\n",
              "  </tbody>\n",
              "</table>\n",
              "</div>"
            ],
            "text/plain": [
              "          0          1        2   ...      33               34               35\n",
              "0  related-1  request-0  offer-0  ...  cold-0  other_weather-0  direct_report-0\n",
              "1  related-1  request-0  offer-0  ...  cold-0  other_weather-0  direct_report-0\n",
              "2  related-1  request-0  offer-0  ...  cold-0  other_weather-0  direct_report-0\n",
              "3  related-1  request-1  offer-0  ...  cold-0  other_weather-0  direct_report-0\n",
              "4  related-1  request-0  offer-0  ...  cold-0  other_weather-0  direct_report-0\n",
              "\n",
              "[5 rows x 36 columns]"
            ]
          },
          "metadata": {
            "tags": []
          },
          "execution_count": 12
        }
      ]
    },
    {
      "cell_type": "code",
      "metadata": {
        "id": "IJZT323Nr_YG",
        "colab_type": "code",
        "outputId": "febaf2e7-61c7-4493-eb3a-06e612ab1ef1",
        "colab": {
          "base_uri": "https://localhost:8080/",
          "height": 34
        }
      },
      "source": [
        "categories.shape"
      ],
      "execution_count": 0,
      "outputs": [
        {
          "output_type": "execute_result",
          "data": {
            "text/plain": [
              "(26386, 36)"
            ]
          },
          "metadata": {
            "tags": []
          },
          "execution_count": 14
        }
      ]
    },
    {
      "cell_type": "code",
      "metadata": {
        "id": "nqY5vuOZpn6I",
        "colab_type": "code",
        "outputId": "a832af3f-00c7-49a2-af0b-a9b355eb8a55",
        "colab": {
          "base_uri": "https://localhost:8080/",
          "height": 117
        }
      },
      "source": [
        "# select the first row of the categories dataframe\n",
        "row = categories.head(1)\n",
        "row\n",
        "# use this row to extract a list of new column names for categories.\n",
        "# one way is to apply a lambda function that takes everything \n",
        "# up to the second to last character of each string with slicing\n",
        "category_colnames = \n",
        "print(category_colnames)"
      ],
      "execution_count": 0,
      "outputs": [
        {
          "output_type": "execute_result",
          "data": {
            "text/html": [
              "<div>\n",
              "<style scoped>\n",
              "    .dataframe tbody tr th:only-of-type {\n",
              "        vertical-align: middle;\n",
              "    }\n",
              "\n",
              "    .dataframe tbody tr th {\n",
              "        vertical-align: top;\n",
              "    }\n",
              "\n",
              "    .dataframe thead th {\n",
              "        text-align: right;\n",
              "    }\n",
              "</style>\n",
              "<table border=\"1\" class=\"dataframe\">\n",
              "  <thead>\n",
              "    <tr style=\"text-align: right;\">\n",
              "      <th></th>\n",
              "      <th>0</th>\n",
              "      <th>1</th>\n",
              "      <th>2</th>\n",
              "      <th>3</th>\n",
              "      <th>4</th>\n",
              "      <th>5</th>\n",
              "      <th>6</th>\n",
              "      <th>7</th>\n",
              "      <th>8</th>\n",
              "      <th>9</th>\n",
              "      <th>10</th>\n",
              "      <th>11</th>\n",
              "      <th>12</th>\n",
              "      <th>13</th>\n",
              "      <th>14</th>\n",
              "      <th>15</th>\n",
              "      <th>16</th>\n",
              "      <th>17</th>\n",
              "      <th>18</th>\n",
              "      <th>19</th>\n",
              "      <th>20</th>\n",
              "      <th>21</th>\n",
              "      <th>22</th>\n",
              "      <th>23</th>\n",
              "      <th>24</th>\n",
              "      <th>25</th>\n",
              "      <th>26</th>\n",
              "      <th>27</th>\n",
              "      <th>28</th>\n",
              "      <th>29</th>\n",
              "      <th>30</th>\n",
              "      <th>31</th>\n",
              "      <th>32</th>\n",
              "      <th>33</th>\n",
              "      <th>34</th>\n",
              "      <th>35</th>\n",
              "    </tr>\n",
              "  </thead>\n",
              "  <tbody>\n",
              "    <tr>\n",
              "      <th>0</th>\n",
              "      <td>related-1</td>\n",
              "      <td>request-0</td>\n",
              "      <td>offer-0</td>\n",
              "      <td>aid_related-0</td>\n",
              "      <td>medical_help-0</td>\n",
              "      <td>medical_products-0</td>\n",
              "      <td>search_and_rescue-0</td>\n",
              "      <td>security-0</td>\n",
              "      <td>military-0</td>\n",
              "      <td>child_alone-0</td>\n",
              "      <td>water-0</td>\n",
              "      <td>food-0</td>\n",
              "      <td>shelter-0</td>\n",
              "      <td>clothing-0</td>\n",
              "      <td>money-0</td>\n",
              "      <td>missing_people-0</td>\n",
              "      <td>refugees-0</td>\n",
              "      <td>death-0</td>\n",
              "      <td>other_aid-0</td>\n",
              "      <td>infrastructure_related-0</td>\n",
              "      <td>transport-0</td>\n",
              "      <td>buildings-0</td>\n",
              "      <td>electricity-0</td>\n",
              "      <td>tools-0</td>\n",
              "      <td>hospitals-0</td>\n",
              "      <td>shops-0</td>\n",
              "      <td>aid_centers-0</td>\n",
              "      <td>other_infrastructure-0</td>\n",
              "      <td>weather_related-0</td>\n",
              "      <td>floods-0</td>\n",
              "      <td>storm-0</td>\n",
              "      <td>fire-0</td>\n",
              "      <td>earthquake-0</td>\n",
              "      <td>cold-0</td>\n",
              "      <td>other_weather-0</td>\n",
              "      <td>direct_report-0</td>\n",
              "    </tr>\n",
              "  </tbody>\n",
              "</table>\n",
              "</div>"
            ],
            "text/plain": [
              "          0          1        2   ...      33               34               35\n",
              "0  related-1  request-0  offer-0  ...  cold-0  other_weather-0  direct_report-0\n",
              "\n",
              "[1 rows x 36 columns]"
            ]
          },
          "metadata": {
            "tags": []
          },
          "execution_count": 19
        }
      ]
    },
    {
      "cell_type": "code",
      "metadata": {
        "id": "ItqMP6Hxpn6L",
        "colab_type": "code",
        "colab": {}
      },
      "source": [
        "# rename the columns of `categories`\n",
        "categories.columns = category_colnames\n",
        "categories.head()"
      ],
      "execution_count": 0,
      "outputs": []
    },
    {
      "cell_type": "markdown",
      "metadata": {
        "id": "Lr7cVyhIpn6P",
        "colab_type": "text"
      },
      "source": [
        "### 4. Convert category values to just numbers 0 or 1.\n",
        "- Iterate through the category columns in df to keep only the last character of each string (the 1 or 0). For example, `related-0` becomes `0`, `related-1` becomes `1`. Convert the string to a numeric value.\n",
        "- You can perform [normal string actions on Pandas Series](https://pandas.pydata.org/pandas-docs/stable/text.html#indexing-with-str), like indexing, by including `.str` after the Series. You may need to first convert the Series to be of type string, which you can do with `astype(str)`."
      ]
    },
    {
      "cell_type": "code",
      "metadata": {
        "id": "1OAjA0bGpn6P",
        "colab_type": "code",
        "colab": {}
      },
      "source": [
        "for column in categories:\n",
        "    # set each value to be the last character of the string\n",
        "    categories[column] = \n",
        "    \n",
        "    # convert column from string to numeric\n",
        "    categories[column] = \n",
        "categories.head()"
      ],
      "execution_count": 0,
      "outputs": []
    },
    {
      "cell_type": "markdown",
      "metadata": {
        "id": "GQHuNt83pn6S",
        "colab_type": "text"
      },
      "source": [
        "### 5. Replace `categories` column in `df` with new category columns.\n",
        "- Drop the categories column from the df dataframe since it is no longer needed.\n",
        "- Concatenate df and categories data frames."
      ]
    },
    {
      "cell_type": "code",
      "metadata": {
        "id": "lWHy4Gaapn6T",
        "colab_type": "code",
        "colab": {}
      },
      "source": [
        "# drop the original categories column from `df`\n",
        "\n",
        "\n",
        "df.head()"
      ],
      "execution_count": 0,
      "outputs": []
    },
    {
      "cell_type": "code",
      "metadata": {
        "id": "0Pb1f1Aspn6W",
        "colab_type": "code",
        "colab": {}
      },
      "source": [
        "# concatenate the original dataframe with the new `categories` dataframe\n",
        "df = \n",
        "df.head()"
      ],
      "execution_count": 0,
      "outputs": []
    },
    {
      "cell_type": "markdown",
      "metadata": {
        "id": "sv_awIqGpn6Z",
        "colab_type": "text"
      },
      "source": [
        "### 6. Remove duplicates.\n",
        "- Check how many duplicates are in this dataset.\n",
        "- Drop the duplicates.\n",
        "- Confirm duplicates were removed."
      ]
    },
    {
      "cell_type": "code",
      "metadata": {
        "id": "bQCw5xBrpn6a",
        "colab_type": "code",
        "colab": {}
      },
      "source": [
        "# check number of duplicates\n"
      ],
      "execution_count": 0,
      "outputs": []
    },
    {
      "cell_type": "code",
      "metadata": {
        "id": "oqJrVG0dpn6d",
        "colab_type": "code",
        "colab": {}
      },
      "source": [
        "# drop duplicates\n"
      ],
      "execution_count": 0,
      "outputs": []
    },
    {
      "cell_type": "code",
      "metadata": {
        "id": "mIFbB_Oepn6o",
        "colab_type": "code",
        "colab": {}
      },
      "source": [
        "# check number of duplicates\n"
      ],
      "execution_count": 0,
      "outputs": []
    },
    {
      "cell_type": "markdown",
      "metadata": {
        "id": "NPy3FMOspn6r",
        "colab_type": "text"
      },
      "source": [
        "### 7. Save the clean dataset into an sqlite database.\n",
        "You can do this with pandas [`to_sql` method](https://pandas.pydata.org/pandas-docs/stable/generated/pandas.DataFrame.to_sql.html) combined with the SQLAlchemy library. Remember to import SQLAlchemy's `create_engine` in the first cell of this notebook to use it below."
      ]
    },
    {
      "cell_type": "code",
      "metadata": {
        "id": "UYMPaUVfpn6s",
        "colab_type": "code",
        "colab": {}
      },
      "source": [
        "engine = create_engine('sqlite:///InsertDatabaseName.db')\n",
        "df.to_sql('InsertTableName', engine, index=False)"
      ],
      "execution_count": 0,
      "outputs": []
    },
    {
      "cell_type": "markdown",
      "metadata": {
        "id": "Jv9k2c97pn6w",
        "colab_type": "text"
      },
      "source": [
        "### 8. Use this notebook to complete `etl_pipeline.py`\n",
        "Use the template file attached in the Resources folder to write a script that runs the steps above to create a database based on new datasets specified by the user. Alternatively, you can complete `etl_pipeline.py` in the classroom on the `Project Workspace IDE` coming later."
      ]
    },
    {
      "cell_type": "code",
      "metadata": {
        "id": "EXEjD6KKpn6w",
        "colab_type": "code",
        "colab": {}
      },
      "source": [
        ""
      ],
      "execution_count": 0,
      "outputs": []
    }
  ]
}